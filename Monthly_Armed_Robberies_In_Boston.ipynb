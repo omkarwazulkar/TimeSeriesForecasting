{
  "nbformat": 4,
  "nbformat_minor": 0,
  "metadata": {
    "colab": {
      "name": "Monthly Armed Robberies In Boston.ipynb",
      "provenance": [],
      "mount_file_id": "12vtxGBKn2LpDaRbygF6T57CR1FwQX5os",
      "authorship_tag": "ABX9TyMZGKeEYA03zpBS+hfZ9qk+",
      "include_colab_link": true
    },
    "kernelspec": {
      "name": "python3",
      "display_name": "Python 3"
    },
    "language_info": {
      "name": "python"
    }
  },
  "cells": [
    {
      "cell_type": "markdown",
      "metadata": {
        "id": "view-in-github",
        "colab_type": "text"
      },
      "source": [
        "<a href=\"https://colab.research.google.com/github/omkarwazulkar/TimeSeriesForecasting/blob/main/Monthly_Armed_Robberies_In_Boston.ipynb\" target=\"_parent\"><img src=\"https://colab.research.google.com/assets/colab-badge.svg\" alt=\"Open In Colab\"/></a>"
      ]
    },
    {
      "cell_type": "code",
      "source": [
        "# Mounting Google Drive\n",
        "from google.colab import drive\n",
        "drive.mount('/content/drive')"
      ],
      "metadata": {
        "colab": {
          "base_uri": "https://localhost:8080/"
        },
        "id": "xywzLp6kly0A",
        "outputId": "5ba806b8-8524-4d20-9b6b-e2131aeeb606"
      },
      "execution_count": null,
      "outputs": [
        {
          "output_type": "stream",
          "name": "stdout",
          "text": [
            "Drive already mounted at /content/drive; to attempt to forcibly remount, call drive.mount(\"/content/drive\", force_remount=True).\n"
          ]
        }
      ]
    },
    {
      "cell_type": "code",
      "execution_count": 1,
      "metadata": {
        "colab": {
          "base_uri": "https://localhost:8080/"
        },
        "id": "0X55hdTalquL",
        "outputId": "15f5f9b5-04b7-4aef-d1ee-f57178b61dd3"
      },
      "outputs": [
        {
          "output_type": "stream",
          "name": "stdout",
          "text": [
            "Month\n",
            "1966-01-01     41\n",
            "1966-02-01     39\n",
            "1966-03-01     50\n",
            "1966-04-01     40\n",
            "1966-05-01     43\n",
            "             ... \n",
            "1975-06-01    316\n",
            "1975-07-01    398\n",
            "1975-08-01    394\n",
            "1975-09-01    431\n",
            "1975-10-01    431\n",
            "Name: Robberies, Length: 118, dtype: int64\n",
            "<class 'pandas.core.series.Series'>\n",
            "<class 'pandas.core.series.Series'>\n",
            "Dataset : 106, Validation : 12\n"
          ]
        }
      ],
      "source": [
        "# Import dataset from Google Drive using read_csv\n",
        "import pandas\n",
        "from pandas import read_csv\n",
        "data = '/content/drive/MyDrive/Dataset/Datasets/monthly-robberies.csv'\n",
        "\n",
        "# Converting dataset into time series using (header = 0, index_col = 0, parse_dates = True, squeeze = True)\n",
        "series = read_csv(\n",
        "    data, \n",
        "    header = 0, \n",
        "    index_col = 0,\n",
        "    parse_dates = True, \n",
        "    squeeze = True)\n",
        "print(series)\n",
        "print(type(series))\n",
        "\n",
        "# Picking last year as validation and remaining as Training\n",
        "split_point = len(series) - 12 \n",
        "dataset, validation = series[0: split_point], series[split_point:]\n",
        "print(type(dataset))\n",
        "\n",
        "print('Dataset : %d, Validation : %d' %(len(dataset), len(validation)))\n",
        "\n",
        "dataset.to_csv('dataset.csv', header = False)\n",
        "validation.to_csv('validation.csv', header = False)"
      ]
    },
    {
      "cell_type": "code",
      "source": [
        "print(dataset)\n",
        "print(validation)"
      ],
      "metadata": {
        "colab": {
          "base_uri": "https://localhost:8080/"
        },
        "id": "3jeOaxbnoE3W",
        "outputId": "903a27e8-2bb5-4c7c-8ab8-917face84878"
      },
      "execution_count": 2,
      "outputs": [
        {
          "output_type": "stream",
          "name": "stdout",
          "text": [
            "Month\n",
            "1966-01-01     41\n",
            "1966-02-01     39\n",
            "1966-03-01     50\n",
            "1966-04-01     40\n",
            "1966-05-01     43\n",
            "             ... \n",
            "1974-06-01    287\n",
            "1974-07-01    355\n",
            "1974-08-01    460\n",
            "1974-09-01    364\n",
            "1974-10-01    487\n",
            "Name: Robberies, Length: 106, dtype: int64\n",
            "Month\n",
            "1974-11-01    452\n",
            "1974-12-01    391\n",
            "1975-01-01    500\n",
            "1975-02-01    451\n",
            "1975-03-01    375\n",
            "1975-04-01    372\n",
            "1975-05-01    302\n",
            "1975-06-01    316\n",
            "1975-07-01    398\n",
            "1975-08-01    394\n",
            "1975-09-01    431\n",
            "1975-10-01    431\n",
            "Name: Robberies, dtype: int64\n"
          ]
        }
      ]
    },
    {
      "cell_type": "markdown",
      "source": [
        "# **Test Harness and Baseline Model Peformance**"
      ],
      "metadata": {
        "id": "pJOUdHVDfAGC"
      }
    },
    {
      "cell_type": "code",
      "source": [
        "# Preparing a Test Harness\n",
        "from pandas import read_csv\n",
        "from math import sqrt\n",
        "from sklearn.metrics import mean_squared_error\n",
        "from math import sqrt\n",
        "\n",
        "# Loading Data\n",
        "series = read_csv('dataset.csv', header=None, index_col=0, parse_dates=True, squeeze=True)\n",
        "X = series.values\n",
        "X = X.astype('float32')\n",
        "train_size = int(len(X) * 0.50)\n",
        "train, test = X[0:train_size], X[train_size:]\n",
        "history = [x for x in train]\n",
        "predictions = list()\n",
        "for i in range(len(test)):\n",
        "  yhat = history[-1]\n",
        "  predictions.append(yhat)\n",
        "  obs = test[i]\n",
        "  history.append(obs)\n",
        "  print('>Predicted=%.3f, Expected=%.3f' % (yhat, obs))\n",
        "\n",
        "# Performance\n",
        "rmse = sqrt(mean_squared_error(test, predictions))\n",
        "print('RMSE: %.3f' % rmse)"
      ],
      "metadata": {
        "colab": {
          "base_uri": "https://localhost:8080/"
        },
        "id": "fIiesEotoKSd",
        "outputId": "20c03f74-7246-4cc1-8c55-03fc03a29c3d"
      },
      "execution_count": 4,
      "outputs": [
        {
          "output_type": "stream",
          "name": "stdout",
          "text": [
            ">Predicted=98.000, Expected=125.000\n",
            ">Predicted=125.000, Expected=155.000\n",
            ">Predicted=155.000, Expected=190.000\n",
            ">Predicted=190.000, Expected=236.000\n",
            ">Predicted=236.000, Expected=189.000\n",
            ">Predicted=189.000, Expected=174.000\n",
            ">Predicted=174.000, Expected=178.000\n",
            ">Predicted=178.000, Expected=136.000\n",
            ">Predicted=136.000, Expected=161.000\n",
            ">Predicted=161.000, Expected=171.000\n",
            ">Predicted=171.000, Expected=149.000\n",
            ">Predicted=149.000, Expected=184.000\n",
            ">Predicted=184.000, Expected=155.000\n",
            ">Predicted=155.000, Expected=276.000\n",
            ">Predicted=276.000, Expected=224.000\n",
            ">Predicted=224.000, Expected=213.000\n",
            ">Predicted=213.000, Expected=279.000\n",
            ">Predicted=279.000, Expected=268.000\n",
            ">Predicted=268.000, Expected=287.000\n",
            ">Predicted=287.000, Expected=238.000\n",
            ">Predicted=238.000, Expected=213.000\n",
            ">Predicted=213.000, Expected=257.000\n",
            ">Predicted=257.000, Expected=293.000\n",
            ">Predicted=293.000, Expected=212.000\n",
            ">Predicted=212.000, Expected=246.000\n",
            ">Predicted=246.000, Expected=353.000\n",
            ">Predicted=353.000, Expected=339.000\n",
            ">Predicted=339.000, Expected=308.000\n",
            ">Predicted=308.000, Expected=247.000\n",
            ">Predicted=247.000, Expected=257.000\n",
            ">Predicted=257.000, Expected=322.000\n",
            ">Predicted=322.000, Expected=298.000\n",
            ">Predicted=298.000, Expected=273.000\n",
            ">Predicted=273.000, Expected=312.000\n",
            ">Predicted=312.000, Expected=249.000\n",
            ">Predicted=249.000, Expected=286.000\n",
            ">Predicted=286.000, Expected=279.000\n",
            ">Predicted=279.000, Expected=309.000\n",
            ">Predicted=309.000, Expected=401.000\n",
            ">Predicted=401.000, Expected=309.000\n",
            ">Predicted=309.000, Expected=328.000\n",
            ">Predicted=328.000, Expected=353.000\n",
            ">Predicted=353.000, Expected=354.000\n",
            ">Predicted=354.000, Expected=327.000\n",
            ">Predicted=327.000, Expected=324.000\n",
            ">Predicted=324.000, Expected=285.000\n",
            ">Predicted=285.000, Expected=243.000\n",
            ">Predicted=243.000, Expected=241.000\n",
            ">Predicted=241.000, Expected=287.000\n",
            ">Predicted=287.000, Expected=355.000\n",
            ">Predicted=355.000, Expected=460.000\n",
            ">Predicted=460.000, Expected=364.000\n",
            ">Predicted=364.000, Expected=487.000\n",
            "RMSE: 51.844\n"
          ]
        }
      ]
    },
    {
      "cell_type": "code",
      "source": [
        "series.describe()"
      ],
      "metadata": {
        "colab": {
          "base_uri": "https://localhost:8080/"
        },
        "id": "4au7noKK02-l",
        "outputId": "d2060a4d-d882-43db-ff14-082a7b992350"
      },
      "execution_count": 5,
      "outputs": [
        {
          "output_type": "execute_result",
          "data": {
            "text/plain": [
              "count    106.000000\n",
              "mean     173.103774\n",
              "std      112.231133\n",
              "min       29.000000\n",
              "25%       74.750000\n",
              "50%      144.500000\n",
              "75%      271.750000\n",
              "max      487.000000\n",
              "Name: 1, dtype: float64"
            ]
          },
          "metadata": {},
          "execution_count": 5
        }
      ]
    },
    {
      "cell_type": "code",
      "source": [
        "# Line Plot\n",
        "from matplotlib import pyplot\n",
        "series.plot()\n",
        "pyplot.show()"
      ],
      "metadata": {
        "colab": {
          "base_uri": "https://localhost:8080/",
          "height": 279
        },
        "id": "wD8WhF7q2zEi",
        "outputId": "594d5519-2b63-476d-8ada-fdebe809caf2"
      },
      "execution_count": 6,
      "outputs": [
        {
          "output_type": "display_data",
          "data": {
            "image/png": "[encoded data removed]",
            "text/plain": [
              "<Figure size 432x288 with 1 Axes>"
            ]
          },
          "metadata": {
            "needs_background": "light"
          }
        }
      ]
    },
    {
      "cell_type": "code",
      "source": [
        "# Density Plot\n",
        "pyplot.subplot(211)\n",
        "series.hist()\n",
        "pyplot.subplot(212)\n",
        "series.plot(kind = 'kde')\n",
        "pyplot.show()"
      ],
      "metadata": {
        "colab": {
          "base_uri": "https://localhost:8080/",
          "height": 265
        },
        "id": "hl0LZwp13LnA",
        "outputId": "6aabd04b-589e-4c30-f67d-b688dfe340c7"
      },
      "execution_count": 7,
      "outputs": [
        {
          "output_type": "display_data",
          "data": {
            "image/png": "[encoded data removed]",
            "text/plain": [
              "<Figure size 432x288 with 2 Axes>"
            ]
          },
          "metadata": {
            "needs_background": "light"
          }
        }
      ]
    },
    {
      "cell_type": "code",
      "source": [
        "# Box and Whisker Plots\n",
        "from pandas import DataFrame\n",
        "from pandas import Grouper\n",
        "groups = series['1966':'1973'].groupby(Grouper(freq = 'A'))\n",
        "print(groups)\n",
        "years = DataFrame()\n",
        "for name, group in groups:\n",
        "  years[name.year] = group.values\n",
        "years.boxplot()\n",
        "pyplot.show()"
      ],
      "metadata": {
        "colab": {
          "base_uri": "https://localhost:8080/",
          "height": 282
        },
        "id": "QKgnCNxx4Qcq",
        "outputId": "2c7a8ad7-4cff-4b47-ef7b-67ddd9aa4eea"
      },
      "execution_count": 8,
      "outputs": [
        {
          "output_type": "stream",
          "name": "stdout",
          "text": [
            "<pandas.core.groupby.generic.SeriesGroupBy object at 0x7ffa69ce95d0>\n"
          ]
        },
        {
          "output_type": "display_data",
          "data": {
            "image/png": "[encoded data removed]",
            "text/plain": [
              "<Figure size 432x288 with 1 Axes>"
            ]
          },
          "metadata": {
            "needs_background": "light"
          }
        }
      ]
    },
    {
      "cell_type": "markdown",
      "source": [
        "# **Manually Configured ARIMA**"
      ],
      "metadata": {
        "id": "4CWnyg3UflNJ"
      }
    },
    {
      "cell_type": "code",
      "source": [
        "from pandas import read_csv\n",
        "from pandas import Series\n",
        "from statsmodels.tsa.stattools import adfuller\n",
        "import pandas.testing as tm"
      ],
      "metadata": {
        "id": "BH6KUcEffkfk"
      },
      "execution_count": 10,
      "outputs": []
    },
    {
      "cell_type": "code",
      "source": [
        "# Differenced Time Series\n",
        "def difference(dataset):\n",
        "  diff = list()\n",
        "  for i in range(1, len(dataset)):\n",
        "    value = dataset[i] - dataset[i - 1]\n",
        "    diff.append(value)\n",
        "  return Series(diff)"
      ],
      "metadata": {
        "id": "Ww4mM99UfcbL"
      },
      "execution_count": 11,
      "outputs": []
    },
    {
      "cell_type": "code",
      "source": [
        "series = read_csv('dataset.csv', header=None, index_col=0, parse_dates=True, squeeze=True)\n",
        "X = series.values\n",
        "stationary = difference(X)\n",
        "stationary.index = series.index[1:]\n",
        "result = adfuller(stationary)\n",
        "\n",
        "print('ADF Statistic: %f' % result[0])\n",
        "print('p-value: %f' % result[1])\n",
        "print('Critical Values:')\n",
        "for key, value in result[4].items():\n",
        "  print('\\t%s: %.3f' % (key, value))\n",
        "\n",
        "# Creating a New Stationary File\n",
        "stationary.to_csv('stationary.csv', header=False)"
      ],
      "metadata": {
        "id": "na3kFHha5S2b",
        "colab": {
          "base_uri": "https://localhost:8080/"
        },
        "outputId": "912bbea7-d6a0-4bdf-b8c2-7e475677237d"
      },
      "execution_count": 12,
      "outputs": [
        {
          "output_type": "stream",
          "name": "stdout",
          "text": [
            "ADF Statistic: -3.980946\n",
            "p-value: 0.001514\n",
            "Critical Values:\n",
            "\t1%: -3.503\n",
            "\t5%: -2.893\n",
            "\t10%: -2.584\n"
          ]
        }
      ]
    },
    {
      "cell_type": "code",
      "source": [
        "# ACF and PACF plots of time series\n",
        "from pandas import read_csv\n",
        "from statsmodels.graphics.tsaplots import plot_acf\n",
        "from statsmodels.graphics.tsaplots import plot_pacf\n",
        "from matplotlib import pyplot\n",
        "\n",
        "pyplot.figure()\n",
        "pyplot.subplot(211)\n",
        "plot_acf(series, lags=50, ax=pyplot.gca())\n",
        "pyplot.subplot(212)\n",
        "plot_pacf(series, lags=50, ax=pyplot.gca())\n",
        "pyplot.show()"
      ],
      "metadata": {
        "colab": {
          "base_uri": "https://localhost:8080/",
          "height": 281
        },
        "id": "zR1VkRNMxf-t",
        "outputId": "015dc898-5f83-4f68-dfbe-16e26c7de561"
      },
      "execution_count": 13,
      "outputs": [
        {
          "output_type": "display_data",
          "data": {
            "image/png": "[encoded data removed]",
            "text/plain": [
              "<Figure size 432x288 with 2 Axes>"
            ]
          },
          "metadata": {
            "needs_background": "light"
          }
        }
      ]
    },
    {
      "cell_type": "markdown",
      "source": [
        "# **Evaluating Manually Configured ARIMA**"
      ],
      "metadata": {
        "id": "FyXJIo6TgFQ0"
      }
    },
    {
      "cell_type": "code",
      "source": [
        "from pandas import read_csv\n",
        "from sklearn.metrics import mean_squared_error\n",
        "from statsmodels.tsa.arima_model import ARIMA\n",
        "from math import sqrt"
      ],
      "metadata": {
        "id": "vw_R0X4jgEyI"
      },
      "execution_count": 15,
      "outputs": []
    },
    {
      "cell_type": "code",
      "source": [
        "# Loading data\n",
        "series = read_csv('dataset.csv', header=None, index_col=0, parse_dates=True, squeeze=True)\n",
        "X = series.values\n",
        "X = X.astype('float32')\n",
        "train_size = int(len(X) * 0.50)\n",
        "train, test = X[0:train_size], X[train_size:]\n",
        "\n",
        "history = [x for x in train]\n",
        "predictions = list()\n",
        "for i in range(len(test)):\n",
        "  # predict\n",
        "  model = ARIMA(history, order=(0,1,2))\n",
        "  model_fit = model.fit(disp=0)\n",
        "  yhat = model_fit.forecast()[0]\n",
        "  predictions.append(yhat)\n",
        "  obs = test[i]\n",
        "  history.append(obs)\n",
        "  print('>Predicted=%.3f, Expected=%.3f' % (yhat, obs))\n",
        "\n",
        "#  Performance\n",
        "rmse = sqrt(mean_squared_error(test, predictions))\n",
        "print('RMSE: %.3f' % rmse)"
      ],
      "metadata": {
        "colab": {
          "base_uri": "https://localhost:8080/"
        },
        "id": "luO2ytigxpoE",
        "outputId": "2ff61f94-4d1c-4149-b66b-86703bd37592"
      },
      "execution_count": 16,
      "outputs": [
        {
          "output_type": "stream",
          "name": "stdout",
          "text": [
            ">Predicted=102.710, Expected=125.000\n",
            ">Predicted=118.868, Expected=155.000\n",
            ">Predicted=141.099, Expected=190.000\n",
            ">Predicted=176.593, Expected=236.000\n",
            ">Predicted=233.418, Expected=189.000\n",
            ">Predicted=186.905, Expected=174.000\n",
            ">Predicted=184.846, Expected=178.000\n",
            ">Predicted=183.763, Expected=136.000\n",
            ">Predicted=146.180, Expected=161.000\n",
            ">Predicted=171.279, Expected=171.000\n",
            ">Predicted=170.196, Expected=149.000\n",
            ">Predicted=154.425, Expected=184.000\n",
            ">Predicted=185.708, Expected=155.000\n",
            ">Predicted=157.284, Expected=276.000\n",
            ">Predicted=245.280, Expected=224.000\n",
            ">Predicted=222.242, Expected=213.000\n",
            ">Predicted=219.698, Expected=279.000\n",
            ">Predicted=261.506, Expected=268.000\n",
            ">Predicted=264.287, Expected=287.000\n",
            ">Predicted=282.759, Expected=238.000\n",
            ">Predicted=255.843, Expected=213.000\n",
            ">Predicted=235.189, Expected=257.000\n",
            ">Predicted=257.622, Expected=293.000\n",
            ">Predicted=280.345, Expected=212.000\n",
            ">Predicted=235.564, Expected=246.000\n",
            ">Predicted=255.342, Expected=353.000\n",
            ">Predicted=318.613, Expected=339.000\n",
            ">Predicted=310.335, Expected=308.000\n",
            ">Predicted=306.789, Expected=247.000\n",
            ">Predicted=270.213, Expected=257.000\n",
            ">Predicted=283.318, Expected=322.000\n",
            ">Predicted=316.063, Expected=298.000\n",
            ">Predicted=294.466, Expected=273.000\n",
            ">Predicted=289.635, Expected=312.000\n",
            ">Predicted=314.759, Expected=249.000\n",
            ">Predicted=268.674, Expected=286.000\n",
            ">Predicted=303.095, Expected=279.000\n",
            ">Predicted=286.441, Expected=309.000\n",
            ">Predicted=309.455, Expected=401.000\n",
            ">Predicted=363.141, Expected=309.000\n",
            ">Predicted=304.979, Expected=328.000\n",
            ">Predicted=336.240, Expected=353.000\n",
            ">Predicted=342.814, Expected=354.000\n",
            ">Predicted=347.675, Expected=327.000\n",
            ">Predicted=335.842, Expected=324.000\n",
            ">Predicted=338.449, Expected=285.000\n",
            ">Predicted=314.714, Expected=243.000\n",
            ">Predicted=290.336, Expected=241.000\n",
            ">Predicted=280.614, Expected=287.000\n",
            ">Predicted=302.079, Expected=355.000\n",
            ">Predicted=340.210, Expected=460.000\n",
            ">Predicted=405.172, Expected=364.000\n",
            ">Predicted=333.755, Expected=487.000\n",
            "RMSE: 49.821\n"
          ]
        }
      ]
    },
    {
      "cell_type": "markdown",
      "source": [
        "# **Automatically Configured ARIMA**"
      ],
      "metadata": {
        "id": "dA79DQiOgk-l"
      }
    },
    {
      "cell_type": "code",
      "source": [
        "# Evaluate ARIMA Models\n",
        "\n",
        "def evaluate_arima_model(X, arima_order):\n",
        "  # prepare training dataset\n",
        "  X = X.astype('float32')\n",
        "  train_size = int(len(X) * 0.50)\n",
        "  train, test = X[0:train_size], X[train_size:]\n",
        "  history = [x for x in train]\n",
        "  # make predictions\n",
        "  predictions = list()\n",
        "  for t in range(len(test)):\n",
        "    model = ARIMA(history, order=arima_order)\n",
        "    model_fit = model.fit(disp=0)\n",
        "    yhat = model_fit.forecast()[0]\n",
        "    predictions.append(yhat)\n",
        "    history.append(test[t])\n",
        "  # calculate out of sample error\n",
        "  rmse = sqrt(mean_squared_error(test, predictions))\n",
        "  return rmse"
      ],
      "metadata": {
        "id": "XkNS-xCsgjr0"
      },
      "execution_count": 17,
      "outputs": []
    },
    {
      "cell_type": "code",
      "source": [
        "# Evaluating and Finding the best fit of (p, d, q)\n",
        "def evaluate_models(dataset, p_values, d_values, q_values):\n",
        "  dataset = dataset.astype('float32')\n",
        "  best_score, best_cfg = float(\"inf\"), None\n",
        "  for p in p_values:\n",
        "    for d in d_values:\n",
        "      for q in q_values:\n",
        "        order = (p,d,q)\n",
        "        try:\n",
        "          rmse = evaluate_arima_model(dataset, order)\n",
        "          if rmse < best_score:\n",
        "            best_score, best_cfg = rmse, order\n",
        "          print('ARIMA%s RMSE=%.3f' % (order,rmse))\n",
        "        except:\n",
        "          continue\n",
        "  print('Best ARIMA%s RMSE=%.3f' % (best_cfg, best_score))"
      ],
      "metadata": {
        "id": "BMO8aU4Qgxqw"
      },
      "execution_count": 18,
      "outputs": []
    },
    {
      "cell_type": "code",
      "source": [
        "import warnings\n",
        "\n",
        "series = read_csv('dataset.csv', header=None, index_col=0, parse_dates=True, squeeze=True)\n",
        "# evaluate parameters\n",
        "p_values = range(0,13)\n",
        "d_values = range(0, 4)\n",
        "q_values = range(0, 13)\n",
        "warnings.filterwarnings(\"ignore\")\n",
        "evaluate_models(series.values, p_values, d_values, q_values)"
      ],
      "metadata": {
        "colab": {
          "base_uri": "https://localhost:8080/"
        },
        "id": "q4M2x2wUxzov",
        "outputId": "dcab85fe-d03e-4f13-cbfb-1b480e36e6bf"
      },
      "execution_count": null,
      "outputs": [
        {
          "output_type": "stream",
          "name": "stdout",
          "text": [
            "ARIMA(0, 0, 0) RMSE=154.962\n",
            "ARIMA(0, 0, 1) RMSE=99.360\n",
            "ARIMA(0, 1, 0) RMSE=51.827\n",
            "ARIMA(0, 1, 1) RMSE=50.417\n",
            "ARIMA(0, 1, 2) RMSE=49.821\n",
            "ARIMA(0, 2, 0) RMSE=80.804\n",
            "ARIMA(0, 2, 1) RMSE=52.456\n",
            "ARIMA(1, 0, 0) RMSE=53.243\n",
            "ARIMA(1, 1, 0) RMSE=50.582\n",
            "ARIMA(1, 2, 0) RMSE=68.672\n",
            "ARIMA(2, 0, 0) RMSE=52.032\n",
            "ARIMA(2, 2, 0) RMSE=61.384\n"
          ]
        }
      ]
    },
    {
      "cell_type": "markdown",
      "source": [
        "Found the Best Fit as (0,1,2) and using it is as the final paramters to find the residual errors"
      ],
      "metadata": {
        "id": "EW-xKM67hjCV"
      }
    },
    {
      "cell_type": "code",
      "source": [
        "from pandas import read_csv\n",
        "from pandas import DataFrame\n",
        "from statsmodels.tsa.arima_model import ARIMA\n",
        "import pandas.testing as tm\n",
        "from matplotlib import pyplot"
      ],
      "metadata": {
        "id": "9il7Jvnel7a7"
      },
      "execution_count": null,
      "outputs": []
    },
    {
      "cell_type": "code",
      "source": [
        "# Data\n",
        "series = read_csv('dataset.csv', header=None, index_col=0, parse_dates=True, squeeze=True)\n",
        "X = series.values\n",
        "X = X.astype('float32')\n",
        "train_size = int(len(X) * 0.50)\n",
        "train, test = X[0:train_size], X[train_size:]\n",
        "\n",
        "history = [x for x in train]\n",
        "predictions = list()\n",
        "for i in range(len(test)):\n",
        "  # predict\n",
        "  model = ARIMA(history, order=(0,1,2))\n",
        "  model_fit = model.fit(disp=0)\n",
        "  yhat = model_fit.forecast()[0]\n",
        "  predictions.append(yhat)\n",
        "  # observation\n",
        "  obs = test[i]\n",
        "  history.append(obs)"
      ],
      "metadata": {
        "id": "D4g7h5Eky-RJ"
      },
      "execution_count": 2,
      "outputs": []
    },
    {
      "cell_type": "code",
      "source": [
        "# Residual Errors plot\n",
        "# Residual Errors for ARIMA model\n",
        "\n",
        "residuals = [test[i]-predictions[i] for i in range(len(test))]\n",
        "residuals = DataFrame(residuals)\n",
        "pyplot.figure()\n",
        "pyplot.subplot(211)\n",
        "residuals.hist(ax=pyplot.gca())\n",
        "pyplot.subplot(212)\n",
        "residuals.plot(kind='kde', ax=pyplot.gca())\n",
        "pyplot.show()"
      ],
      "metadata": {
        "colab": {
          "base_uri": "https://localhost:8080/",
          "height": 281
        },
        "id": "WbDWCHFihxk0",
        "outputId": "72c20114-87fe-4347-bddc-ecbd5771d24d"
      },
      "execution_count": 3,
      "outputs": [
        {
          "output_type": "display_data",
          "data": {
            "image/png": "[encoded data removed]",
            "text/plain": [
              "<Figure size 432x288 with 2 Axes>"
            ]
          },
          "metadata": {
            "needs_background": "light"
          }
        }
      ]
    },
    {
      "cell_type": "code",
      "source": [
        "# ACF and PACF Plots\n",
        "from statsmodels.graphics.tsaplots import plot_acf\n",
        "from statsmodels.graphics.tsaplots import plot_pacf\n",
        "\n",
        "pyplot.figure()\n",
        "pyplot.subplot(211)\n",
        "plot_acf(residuals, lags=25, ax=pyplot.gca())\n",
        "pyplot.subplot(212)\n",
        "plot_pacf(residuals, lags=25, ax=pyplot.gca())\n",
        "pyplot.show()"
      ],
      "metadata": {
        "colab": {
          "base_uri": "https://localhost:8080/",
          "height": 281
        },
        "id": "fZ8QWytZzJXj",
        "outputId": "3b67fc91-acbb-41f5-8290-d917565eb85d"
      },
      "execution_count": 10,
      "outputs": [
        {
          "output_type": "display_data",
          "data": {
            "image/png": "[encoded data removed]",
            "text/plain": [
              "<Figure size 432x288 with 2 Axes>"
            ]
          },
          "metadata": {
            "needs_background": "light"
          }
        }
      ]
    },
    {
      "cell_type": "code",
      "source": [
        "# Plots of Box - Cox Dataset\n",
        "from pandas import read_csv\n",
        "from scipy.stats import boxcox\n",
        "from matplotlib import pyplot\n",
        "from statsmodels.graphics.gofplots import qqplot\n",
        "\n",
        "series = read_csv('dataset.csv', header=None, index_col=0, parse_dates=True, squeeze=True)\n",
        "X = series.values\n",
        "transformed, lam = boxcox(X)\n",
        "print('Lambda: %f' % lam)\n",
        "\n",
        "pyplot.figure(1)\n",
        "# Line plot\n",
        "pyplot.subplot(311)\n",
        "pyplot.plot(transformed)\n",
        "\n",
        "# Histogram\n",
        "pyplot.subplot(312)\n",
        "pyplot.hist(transformed)\n",
        "\n",
        "# Q-Q plot\n",
        "pyplot.subplot(313)\n",
        "qqplot(transformed, line='r', ax=pyplot.gca())\n",
        "pyplot.show()"
      ],
      "metadata": {
        "colab": {
          "base_uri": "https://localhost:8080/",
          "height": 296
        },
        "id": "ysiLlaoTzWmg",
        "outputId": "cb5e6c4f-03cf-43bb-df47-ca74c13424a0"
      },
      "execution_count": 5,
      "outputs": [
        {
          "output_type": "stream",
          "name": "stdout",
          "text": [
            "Lambda: 0.260060\n"
          ]
        },
        {
          "output_type": "display_data",
          "data": {
            "image/png": "[encoded data removed]",
            "text/plain": [
              "<Figure size 432x288 with 3 Axes>"
            ]
          },
          "metadata": {
            "needs_background": "light"
          }
        }
      ]
    },
    {
      "cell_type": "markdown",
      "source": [
        "# **Finalizing and Saving the Model**"
      ],
      "metadata": {
        "id": "pnOrLUcrixom"
      }
    },
    {
      "cell_type": "code",
      "source": [
        "# Finalising and Saving the Model\n",
        "from pandas import read_csv\n",
        "from statsmodels.tsa.arima_model import ARIMA\n",
        "from scipy.stats import boxcox\n",
        "import numpy\n",
        "\n",
        "def __getnewargs__(self):\n",
        "  return ((self.endog),(self.k_lags, self.k_diff, self.k_ma))\n",
        "  \n",
        "ARIMA.__getnewargs__ = __getnewargs__\n",
        "\n",
        "# Data\n",
        "series = read_csv('dataset.csv', header=None, index_col=0, parse_dates=True, squeeze=True)\n",
        "X = series.values\n",
        "X = X.astype('float32')\n",
        "\n",
        "# Transformed Data\n",
        "transformed, lam = boxcox(X)\n",
        "\n",
        "# Fit Model\n",
        "model = ARIMA(transformed, order=(0,1,2))\n",
        "model_fit = model.fit(disp=0)\n",
        "\n",
        "# Saving Model\n",
        "model_fit.save('model.pkl')\n",
        "numpy.save('model_lambda.npy', [lam])"
      ],
      "metadata": {
        "colab": {
          "base_uri": "https://localhost:8080/"
        },
        "id": "i3N4MkgA0CBT",
        "outputId": "6411299c-0f70-4179-f156-ff928db1e604"
      },
      "execution_count": 6,
      "outputs": [
        {
          "output_type": "stream",
          "name": "stderr",
          "text": [
            "/usr/local/lib/python3.7/dist-packages/numpy/core/_methods.py:205: RuntimeWarning: overflow encountered in multiply\n",
            "  x = um.multiply(x, x, out=x)\n"
          ]
        }
      ]
    },
    {
      "cell_type": "markdown",
      "source": [
        "# **Loading the Model and Predicting on Data**"
      ],
      "metadata": {
        "id": "AbPAMA07jONK"
      }
    },
    {
      "cell_type": "code",
      "source": [
        "from statsmodels.tsa.arima_model import ARIMAResults\n",
        "from math import exp\n",
        "from math import log\n",
        "import numpy"
      ],
      "metadata": {
        "id": "KI-gw57rkDvw"
      },
      "execution_count": 7,
      "outputs": []
    },
    {
      "cell_type": "code",
      "source": [
        "# Inverted Box - Cox Transform\n",
        "def boxcox_inverse(value, lam):\n",
        "  if lam == 0:\n",
        "    return exp(value)\n",
        "  return exp(log(lam * value + 1) / lam)"
      ],
      "metadata": {
        "id": "HV04O9NAkIHE"
      },
      "execution_count": 8,
      "outputs": []
    },
    {
      "cell_type": "code",
      "source": [
        "# Loading Model\n",
        "model_fit = ARIMAResults.load('model.pkl')\n",
        "lam = numpy.load('model_lambda.npy')\n",
        "\n",
        "yhat = model_fit.forecast()[0]\n",
        "yhat = boxcox_inverse(yhat, lam)\n",
        "print('Predicted: %.3f' % yhat)"
      ],
      "metadata": {
        "colab": {
          "base_uri": "https://localhost:8080/"
        },
        "id": "5okzJlJu0F3p",
        "outputId": "ec3adda6-3b51-4546-860d-3e6382777fe2"
      },
      "execution_count": 9,
      "outputs": [
        {
          "output_type": "stream",
          "name": "stdout",
          "text": [
            "Predicted: 452.039\n"
          ]
        }
      ]
    },
    {
      "cell_type": "markdown",
      "source": [
        "# **Evaluating the Final model on the Validation Dataset**"
      ],
      "metadata": {
        "id": "S5Ygp9mxlEgT"
      }
    },
    {
      "cell_type": "code",
      "source": [
        "from pandas import read_csv\n",
        "from matplotlib import pyplot\n",
        "from statsmodels.tsa.arima_model import ARIMA\n",
        "from statsmodels.tsa.arima_model import ARIMAResults\n",
        "from scipy.stats import boxcox\n",
        "from sklearn.metrics import mean_squared_error\n",
        "from math import sqrt\n",
        "from math import exp\n",
        "from math import log\n",
        "import numpy"
      ],
      "metadata": {
        "id": "xrhe5DgmlYuW"
      },
      "execution_count": 13,
      "outputs": []
    },
    {
      "cell_type": "code",
      "source": [
        "# Laoding Train Datasets\n",
        "dataset = read_csv('dataset.csv', header=None, index_col=0, parse_dates=True, squeeze=True)\n",
        "X = dataset.values.astype('float32')\n",
        "history = [x for x in X]\n",
        "\n",
        "# Loading Validation Dataset\n",
        "validation = read_csv('validation.csv', header=None, index_col=0, parse_dates=True, squeeze=True)\n",
        "y = validation.values.astype('float32')"
      ],
      "metadata": {
        "id": "HdGAupqclSZZ"
      },
      "execution_count": 14,
      "outputs": []
    },
    {
      "cell_type": "markdown",
      "source": [
        "\n"
      ],
      "metadata": {
        "id": "MK2u6oJVlRiY"
      }
    },
    {
      "cell_type": "code",
      "source": [
        "# Loading Model\n",
        "model_fit = ARIMAResults.load('model.pkl')\n",
        "lam = numpy.load('model_lambda.npy')\n",
        "\n",
        "predictions = list()\n",
        "yhat = model_fit.forecast()[0]\n",
        "yhat = boxcox_inverse(yhat, lam)\n",
        "predictions.append(yhat)\n",
        "history.append(y[0])\n",
        "print('>Predicted=%.3f, Expected=%.3f' % (yhat, y[0]))"
      ],
      "metadata": {
        "colab": {
          "base_uri": "https://localhost:8080/"
        },
        "id": "NUJmyA3U0Rvs",
        "outputId": "5c5abb71-cb0d-4311-f104-20e3a1ecfce8"
      },
      "execution_count": 15,
      "outputs": [
        {
          "output_type": "stream",
          "name": "stdout",
          "text": [
            ">Predicted=452.039, Expected=452.000\n"
          ]
        }
      ]
    },
    {
      "cell_type": "code",
      "source": [
        "# Forecasts \n",
        "for i in range(1, len(y)):\n",
        "  transformed, lam = boxcox(history)\n",
        "  if lam < -5:\n",
        "    transformed, lam = history, 1\n",
        "  model = ARIMA(transformed, order=(0,1,2))\n",
        "  model_fit = model.fit(disp=0)\n",
        "  yhat = model_fit.forecast()[0]\n",
        "  yhat = boxcox_inverse(yhat, lam)\n",
        "  predictions.append(yhat)\n",
        "  obs = y[i]\n",
        "  history.append(obs)\n",
        "  print('>Predicted=%.3f, Expected=%.3f' % (yhat, obs))"
      ],
      "metadata": {
        "colab": {
          "base_uri": "https://localhost:8080/"
        },
        "id": "EPRV9yMfleFL",
        "outputId": "a5a0139d-996c-4d75-fa44-57f7a3f42c7a"
      },
      "execution_count": 16,
      "outputs": [
        {
          "output_type": "stream",
          "name": "stderr",
          "text": [
            "/usr/local/lib/python3.7/dist-packages/numpy/core/_methods.py:205: RuntimeWarning: overflow encountered in multiply\n",
            "  x = um.multiply(x, x, out=x)\n"
          ]
        },
        {
          "output_type": "stream",
          "name": "stdout",
          "text": [
            ">Predicted=423.097, Expected=391.000\n",
            ">Predicted=408.373, Expected=500.000\n",
            ">Predicted=482.451, Expected=451.000\n",
            ">Predicted=445.937, Expected=375.000\n",
            ">Predicted=413.883, Expected=372.000\n",
            ">Predicted=413.210, Expected=302.000\n",
            ">Predicted=355.157, Expected=316.000\n",
            ">Predicted=363.514, Expected=398.000\n",
            ">Predicted=406.362, Expected=394.000\n",
            ">Predicted=394.186, Expected=431.000\n",
            ">Predicted=428.175, Expected=431.000\n"
          ]
        }
      ]
    },
    {
      "cell_type": "code",
      "source": [
        "# Performance\n",
        "rmse = sqrt(mean_squared_error(y, predictions))\n",
        "print('RMSE: %.3f' % rmse)\n",
        "pyplot.plot(y)\n",
        "pyplot.plot(predictions, color='red')\n",
        "pyplot.show()"
      ],
      "metadata": {
        "colab": {
          "base_uri": "https://localhost:8080/",
          "height": 282
        },
        "id": "zlUPBeaujjFz",
        "outputId": "f207a163-0906-4f75-a7e0-81ac435c9f4e"
      },
      "execution_count": 17,
      "outputs": [
        {
          "output_type": "stream",
          "name": "stdout",
          "text": [
            "RMSE: 53.078\n"
          ]
        },
        {
          "output_type": "display_data",
          "data": {
            "image/png": "[encoded data removed]",
            "text/plain": [
              "<Figure size 432x288 with 1 Axes>"
            ]
          },
          "metadata": {
            "needs_background": "light"
          }
        }
      ]
    }
  ]
}