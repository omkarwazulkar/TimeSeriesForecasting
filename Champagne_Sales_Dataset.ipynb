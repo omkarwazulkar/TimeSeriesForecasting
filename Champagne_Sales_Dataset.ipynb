{
  "nbformat": 4,
  "nbformat_minor": 0,
  "metadata": {
    "colab": {
      "name": "Champagne Sales Dataset.ipynb",
      "provenance": [],
      "authorship_tag": "ABX9TyOhNPYgJXMi5ncWja1evcCq",
      "include_colab_link": true
    },
    "kernelspec": {
      "name": "python3",
      "display_name": "Python 3"
    },
    "language_info": {
      "name": "python"
    }
  },
  "cells": [
    {
      "cell_type": "markdown",
      "metadata": {
        "id": "view-in-github",
        "colab_type": "text"
      },
      "source": [
        "<a href=\"https://colab.research.google.com/github/omkarwazulkar/TimeSeriesForecasting/blob/main/Champagne_Sales_Dataset.ipynb\" target=\"_parent\"><img src=\"https://colab.research.google.com/assets/colab-badge.svg\" alt=\"Open In Colab\"/></a>"
      ]
    },
    {
      "cell_type": "code",
      "source": [
        "from google.colab import drive\n",
        "drive.mount('/content/drive')"
      ],
      "metadata": {
        "colab": {
          "base_uri": "https://localhost:8080/"
        },
        "id": "pRA5keIu-TK-",
        "outputId": "e792ce15-90c6-4a7f-f40f-f55d914988ce"
      },
      "execution_count": 2,
      "outputs": [
        {
          "output_type": "stream",
          "name": "stdout",
          "text": [
            "Mounted at /content/drive\n"
          ]
        }
      ]
    },
    {
      "cell_type": "markdown",
      "source": [
        "# **Describing** **the** **Dataset**"
      ],
      "metadata": {
        "id": "Jz4jU4frYe_S"
      }
    },
    {
      "cell_type": "code",
      "source": [
        "path = '/content/drive/MyDrive/Dataset/Datasets/champagne.csv'"
      ],
      "metadata": {
        "id": "wKqxkFdF-hRH"
      },
      "execution_count": 1,
      "outputs": []
    },
    {
      "cell_type": "code",
      "execution_count": 2,
      "metadata": {
        "id": "njfL0d2r-Gf2"
      },
      "outputs": [],
      "source": [
        "from pandas import read_csv\n",
        "series = read_csv(path, header=0, index_col=0, parse_dates=True, squeeze=True)"
      ]
    },
    {
      "cell_type": "code",
      "source": [
        "print(series)"
      ],
      "metadata": {
        "colab": {
          "base_uri": "https://localhost:8080/"
        },
        "id": "SHD4D-sT_4oE",
        "outputId": "21097226-bb19-4029-dfee-cb9c2b0b879c"
      },
      "execution_count": 3,
      "outputs": [
        {
          "output_type": "stream",
          "name": "stdout",
          "text": [
            "Month\n",
            "1964-01-01    2815\n",
            "1964-02-01    2672\n",
            "1964-03-01    2755\n",
            "1964-04-01    2721\n",
            "1964-05-01    2946\n",
            "              ... \n",
            "1972-05-01    4618\n",
            "1972-06-01    5312\n",
            "1972-07-01    4298\n",
            "1972-08-01    1413\n",
            "1972-09-01    5877\n",
            "Name: Sales, Length: 105, dtype: int64\n"
          ]
        }
      ]
    },
    {
      "cell_type": "code",
      "source": [
        "# Creating Train and Validation Dataset and Saving\n",
        "\n",
        "split_point = len(series) - 12\n",
        "dataset, validation = series[0:split_point], series[split_point:]\n",
        "print('Dataset %d, Validation %d' % (len(dataset), len(validation)))\n",
        "dataset.to_csv('dataset.csv', header=False)\n",
        "validation.to_csv('validation.csv', header=False)"
      ],
      "metadata": {
        "colab": {
          "base_uri": "https://localhost:8080/"
        },
        "id": "ojLCTl9d-fm0",
        "outputId": "bee15603-de7f-482b-8073-a49b0545e3b7"
      },
      "execution_count": 4,
      "outputs": [
        {
          "output_type": "stream",
          "name": "stdout",
          "text": [
            "Dataset 93, Validation 12\n"
          ]
        }
      ]
    },
    {
      "cell_type": "markdown",
      "source": [
        "# **Testing Harness and Performance of Baseline Model**"
      ],
      "metadata": {
        "id": "LQrH6Y_2Y10s"
      }
    },
    {
      "cell_type": "code",
      "source": [
        "from sklearn.metrics import mean_squared_error\n",
        "from math import sqrt\n",
        "\n",
        "series = read_csv('/content/dataset.csv', header = None, index_col = 0, parse_dates = True, squeeze = True)\n",
        "X = series.values\n",
        "X = X.astype('float32')\n",
        "train_size = int(len(X) * 0.5)\n",
        "train, test = X[0: train_size], X[train_size:]\n",
        "history = [x for x in train]\n",
        "predictions = list()\n",
        "for i in range(len(test)):\n",
        "  yhat = history[-1]\n",
        "  predictions.append(yhat)\n",
        "  obs = test[i]\n",
        "  history.append(obs)\n",
        "  print('>Predicted=%.3f, Expected=%3.f' % (yhat, obs))\n",
        "rmse = sqrt(mean_squared_error(test, predictions))\n",
        "print(\"RMSE : %.3f \" % rmse)"
      ],
      "metadata": {
        "colab": {
          "base_uri": "https://localhost:8080/"
        },
        "id": "_RnQG6dk_2_l",
        "outputId": "1f385784-2ffc-4c5c-876a-12130110724d"
      },
      "execution_count": 7,
      "outputs": [
        {
          "output_type": "stream",
          "name": "stdout",
          "text": [
            ">Predicted=5428.000, Expected=8314\n",
            ">Predicted=8314.000, Expected=10651\n",
            ">Predicted=10651.000, Expected=3633\n",
            ">Predicted=3633.000, Expected=4292\n",
            ">Predicted=4292.000, Expected=4154\n",
            ">Predicted=4154.000, Expected=4121\n",
            ">Predicted=4121.000, Expected=4647\n",
            ">Predicted=4647.000, Expected=4753\n",
            ">Predicted=4753.000, Expected=3965\n",
            ">Predicted=3965.000, Expected=1723\n",
            ">Predicted=1723.000, Expected=5048\n",
            ">Predicted=5048.000, Expected=6922\n",
            ">Predicted=6922.000, Expected=9858\n",
            ">Predicted=9858.000, Expected=11331\n",
            ">Predicted=11331.000, Expected=4016\n",
            ">Predicted=4016.000, Expected=3957\n",
            ">Predicted=3957.000, Expected=4510\n",
            ">Predicted=4510.000, Expected=4276\n",
            ">Predicted=4276.000, Expected=4968\n",
            ">Predicted=4968.000, Expected=4677\n",
            ">Predicted=4677.000, Expected=3523\n",
            ">Predicted=3523.000, Expected=1821\n",
            ">Predicted=1821.000, Expected=5222\n",
            ">Predicted=5222.000, Expected=6872\n",
            ">Predicted=6872.000, Expected=10803\n",
            ">Predicted=10803.000, Expected=13916\n",
            ">Predicted=13916.000, Expected=2639\n",
            ">Predicted=2639.000, Expected=2899\n",
            ">Predicted=2899.000, Expected=3370\n",
            ">Predicted=3370.000, Expected=3740\n",
            ">Predicted=3740.000, Expected=2927\n",
            ">Predicted=2927.000, Expected=3986\n",
            ">Predicted=3986.000, Expected=4217\n",
            ">Predicted=4217.000, Expected=1738\n",
            ">Predicted=1738.000, Expected=5221\n",
            ">Predicted=5221.000, Expected=6424\n",
            ">Predicted=6424.000, Expected=9842\n",
            ">Predicted=9842.000, Expected=13076\n",
            ">Predicted=13076.000, Expected=3934\n",
            ">Predicted=3934.000, Expected=3162\n",
            ">Predicted=3162.000, Expected=4286\n",
            ">Predicted=4286.000, Expected=4676\n",
            ">Predicted=4676.000, Expected=5010\n",
            ">Predicted=5010.000, Expected=4874\n",
            ">Predicted=4874.000, Expected=4633\n",
            ">Predicted=4633.000, Expected=1659\n",
            ">Predicted=1659.000, Expected=5951\n",
            "RMSE : 3186.501 \n"
          ]
        }
      ]
    },
    {
      "cell_type": "code",
      "source": [
        "series.describe()"
      ],
      "metadata": {
        "colab": {
          "base_uri": "https://localhost:8080/"
        },
        "id": "BH7YqG4JETYV",
        "outputId": "96032fc6-a123-4704-fa05-5d7f3d082826"
      },
      "execution_count": 8,
      "outputs": [
        {
          "output_type": "execute_result",
          "data": {
            "text/plain": [
              "count       93.000000\n",
              "mean      4641.118280\n",
              "std       2486.403841\n",
              "min       1573.000000\n",
              "25%       3036.000000\n",
              "50%       4016.000000\n",
              "75%       5048.000000\n",
              "max      13916.000000\n",
              "Name: 1, dtype: float64"
            ]
          },
          "metadata": {},
          "execution_count": 8
        }
      ]
    },
    {
      "cell_type": "markdown",
      "source": [
        "# **Visualizing Data**"
      ],
      "metadata": {
        "id": "8d2iqQbLZmp8"
      }
    },
    {
      "cell_type": "code",
      "source": [
        "# Line Plot\n",
        "from matplotlib import pyplot \n",
        "\n",
        "series.plot()\n",
        "pyplot.show()"
      ],
      "metadata": {
        "colab": {
          "base_uri": "https://localhost:8080/",
          "height": 279
        },
        "id": "WuQL-vQ-EYE9",
        "outputId": "514ce37e-1c8e-4bf4-9e8a-27e0e834ca02"
      },
      "execution_count": 9,
      "outputs": [
        {
          "output_type": "display_data",
          "data": {
            "image/png": "[encoded data removed]",
            "text/plain": [
              "<Figure size 432x288 with 1 Axes>"
            ]
          },
          "metadata": {
            "needs_background": "light"
          }
        }
      ]
    },
    {
      "cell_type": "code",
      "source": [
        "# Seasonal Line Plot\n",
        "\n",
        "from pandas import DataFrame\n",
        "from pandas import Grouper\n",
        "\n",
        "groups = series['1964':'1970'].groupby(Grouper(freq = 'A'))\n",
        "years = DataFrame()\n",
        "pyplot.figure()\n",
        "i = 1\n",
        "n_groups = len(groups)\n",
        "for name, group in groups:\n",
        "  pyplot.subplot((n_groups * 100) + 10 + i)\n",
        "  i += 1\n",
        "  pyplot.plot(group)\n",
        "pyplot.show()"
      ],
      "metadata": {
        "colab": {
          "base_uri": "https://localhost:8080/",
          "height": 269
        },
        "id": "-8c9cts5Eo2Q",
        "outputId": "c0a3e230-6951-4dc7-b542-13bce7784756"
      },
      "execution_count": 10,
      "outputs": [
        {
          "output_type": "display_data",
          "data": {
            "image/png": "[encoded data removed]",
            "text/plain": [
              "<Figure size 432x288 with 7 Axes>"
            ]
          },
          "metadata": {
            "needs_background": "light"
          }
        }
      ]
    },
    {
      "cell_type": "code",
      "source": [
        "# Density Plot\n",
        "\n",
        "pyplot.figure(1)\n",
        "pyplot.subplot(211)\n",
        "series.hist()\n",
        "pyplot.subplot(212)\n",
        "series.plot(kind = 'kde')\n",
        "pyplot.show()"
      ],
      "metadata": {
        "colab": {
          "base_uri": "https://localhost:8080/",
          "height": 265
        },
        "id": "bkQFEBI3F60k",
        "outputId": "f68781a2-eb55-486b-e517-053f455ef39d"
      },
      "execution_count": 11,
      "outputs": [
        {
          "output_type": "display_data",
          "data": {
            "image/png": "[encoded data removed]",
            "text/plain": [
              "<Figure size 432x288 with 2 Axes>"
            ]
          },
          "metadata": {
            "needs_background": "light"
          }
        }
      ]
    },
    {
      "cell_type": "code",
      "source": [
        "# Box and Whisker Plot\n",
        "groups = series['1964':'1970'].groupby(Grouper(freq='A'))\n",
        "years = DataFrame()\n",
        "for name, group in groups:\n",
        "  years[name.year] = group.values\n",
        "years.boxplot()\n",
        "pyplot.show()"
      ],
      "metadata": {
        "colab": {
          "base_uri": "https://localhost:8080/",
          "height": 265
        },
        "id": "OL93kWIFGaRX",
        "outputId": "c7ff37e3-2c9f-4d8d-c050-59ba1e019357"
      },
      "execution_count": 12,
      "outputs": [
        {
          "output_type": "display_data",
          "data": {
            "image/png": "[encoded data removed]",
            "text/plain": [
              "<Figure size 432x288 with 1 Axes>"
            ]
          },
          "metadata": {
            "needs_background": "light"
          }
        }
      ]
    },
    {
      "cell_type": "markdown",
      "source": [
        "# **Manually Configuring ARIMA**"
      ],
      "metadata": {
        "id": "3cMzVchvZ0Fr"
      }
    },
    {
      "cell_type": "code",
      "source": [
        "# Creating a Differenced Function\n",
        "\n",
        "def difference(dataset, interval=1):\n",
        "  diff = list()\n",
        "  for i in range(interval, len(dataset)):\n",
        "    value = dataset[i] - dataset[i - interval]\n",
        "    diff.append(value)\n",
        "  return Series(diff)"
      ],
      "metadata": {
        "id": "PCvJQNZaRCEW"
      },
      "execution_count": 14,
      "outputs": []
    },
    {
      "cell_type": "code",
      "source": [
        "# Inverting Differenced Values\n",
        "\n",
        "def inverse_difference(history, yhat, interval = 1):\n",
        "  return yhat + history[-interval]"
      ],
      "metadata": {
        "id": "bUokO99ORBc4"
      },
      "execution_count": 15,
      "outputs": []
    },
    {
      "cell_type": "code",
      "source": [
        "# Configuring the ARIMA manually\n",
        "from pandas import read_csv\n",
        "from pandas import Series\n",
        "from statsmodels.tsa.stattools import adfuller\n",
        "from matplotlib import pyplot\n",
        "\n",
        "series = read_csv('/content/dataset.csv', header=None, index_col=0, parse_dates=True, squeeze=True)\n",
        "X = series.values\n",
        "X = X.astype('float32')\n",
        "months_in_year = 12\n",
        "stationary = difference(X, months_in_year)\n",
        "stationary.index = series.index[months_in_year:]\n",
        "result = adfuller(stationary)\n",
        "\n",
        "print('ADF Statistic: %f' % result[0])\n",
        "print('p-value: %f' % result[1])\n",
        "print('Critical Values:')\n",
        "for key, value in result[4].items():\n",
        "  print('\\t%s: %.3f' % (key, value))\n",
        "stationary.to_csv('stationary.csv', header=False)\n",
        "stationary.plot()\n",
        "pyplot.show()"
      ],
      "metadata": {
        "colab": {
          "base_uri": "https://localhost:8080/",
          "height": 383
        },
        "id": "ZYwSdXwwEjt-",
        "outputId": "b3ebc110-3727-4b16-ff58-260868cf0bba"
      },
      "execution_count": 16,
      "outputs": [
        {
          "output_type": "stream",
          "name": "stdout",
          "text": [
            "ADF Statistic: -7.134898\n",
            "p-value: 0.000000\n",
            "Critical Values:\n",
            "\t1%: -3.515\n",
            "\t5%: -2.898\n",
            "\t10%: -2.586\n"
          ]
        },
        {
          "output_type": "display_data",
          "data": {
            "image/png": "[encoded data removed]",
            "text/plain": [
              "<Figure size 432x288 with 1 Axes>"
            ]
          },
          "metadata": {
            "needs_background": "light"
          }
        }
      ]
    },
    {
      "cell_type": "markdown",
      "source": [
        "# **ACF and PACF for Manually Configured ARIMA**"
      ],
      "metadata": {
        "id": "tmTNg_AlaKHi"
      }
    },
    {
      "cell_type": "code",
      "source": [
        "from statsmodels.graphics.tsaplots import plot_acf\n",
        "from statsmodels.graphics.tsaplots import plot_pacf\n",
        "\n",
        "series = read_csv('/content/stationary.csv', header = None, index_col = 0, parse_dates = True, squeeze = True)\n",
        "print(series)\n",
        "pyplot.figure()\n",
        "pyplot.subplot(211)\n",
        "plot_acf(series, lags=25, ax = pyplot.gca())\n",
        "pyplot.subplot(212)     \n",
        "plot_pacf(series, lags=25, ax = pyplot.gca())\n",
        "pyplot.show()"
      ],
      "metadata": {
        "colab": {
          "base_uri": "https://localhost:8080/",
          "height": 507
        },
        "id": "HJHzRFOwJuFP",
        "outputId": "4004d563-ae50-409f-8c0f-944322d0cdee"
      },
      "execution_count": 17,
      "outputs": [
        {
          "output_type": "stream",
          "name": "stdout",
          "text": [
            "0\n",
            "1965-01-01    -274.0\n",
            "1965-02-01    -197.0\n",
            "1965-03-01     276.0\n",
            "1965-04-01     545.0\n",
            "1965-05-01     830.0\n",
            "               ...  \n",
            "1971-05-01    2083.0\n",
            "1971-06-01     888.0\n",
            "1971-07-01     416.0\n",
            "1971-08-01     -79.0\n",
            "1971-09-01     730.0\n",
            "Name: 1, Length: 81, dtype: float64\n"
          ]
        },
        {
          "output_type": "display_data",
          "data": {
            "image/png": "[encoded data removed]",
            "text/plain": [
              "<Figure size 432x288 with 2 Axes>"
            ]
          },
          "metadata": {
            "needs_background": "light"
          }
        }
      ]
    },
    {
      "cell_type": "markdown",
      "source": [
        "# **Evaluating Manually Configured ARIMA**"
      ],
      "metadata": {
        "id": "Xnn8ZyJTaRi4"
      }
    },
    {
      "cell_type": "code",
      "source": [
        "from statsmodels.tsa.arima_model import ARIMA\n",
        "\n",
        "series = read_csv('/content/dataset.csv', header=None, index_col=0, parse_dates=True, squeeze=True)\n",
        "X = series.values\n",
        "X = X.astype('float32')\n",
        "train_size = int(len(X) * 0.50)\n",
        "train, test = X[0:train_size], X[train_size:]\n",
        "\n",
        "history = [x for x in train]\n",
        "predictions = list()\n",
        "for i in range(len(test)):\n",
        "  months_in_year = 12\n",
        "  diff = difference(history, months_in_year)\n",
        "  model = ARIMA(diff, order = (1,1,1))\n",
        "  model_fit = model.fit(trend = 'nc', disp = 0)\n",
        "  yhat = model_fit.forecast()[0]\n",
        "  yhat = inverse_difference(history, yhat, months_in_year)\n",
        "  predictions.append(yhat)\n",
        "  obs = test[i]\n",
        "  history.append(obs)\n",
        "  print('>Predicted=%.3f, Expected=%.3f' % (yhat, obs))\n",
        "  \n",
        "rmse = sqrt(mean_squared_error(test, predictions))\n",
        "print('RMSE: %.3f' % rmse)"
      ],
      "metadata": {
        "colab": {
          "base_uri": "https://localhost:8080/"
        },
        "id": "gu80cXcrKeUx",
        "outputId": "0ff146b7-f041-40d3-e262-5e095fd76ad3"
      },
      "execution_count": 18,
      "outputs": [
        {
          "output_type": "stream",
          "name": "stdout",
          "text": [
            ">Predicted=8089.892, Expected=8314.000\n",
            ">Predicted=9742.786, Expected=10651.000\n",
            ">Predicted=5986.916, Expected=3633.000\n",
            ">Predicted=3886.954, Expected=4292.000\n",
            ">Predicted=4038.120, Expected=4154.000\n",
            ">Predicted=4992.340, Expected=4121.000\n",
            ">Predicted=5156.385, Expected=4647.000\n",
            ">Predicted=5046.669, Expected=4753.000\n",
            ">Predicted=4143.877, Expected=3965.000\n",
            ">Predicted=2102.942, Expected=1723.000\n",
            ">Predicted=5228.292, Expected=5048.000\n",
            ">Predicted=5873.444, Expected=6922.000\n",
            ">Predicted=8571.264, Expected=9858.000\n",
            ">Predicted=11006.038, Expected=11331.000\n",
            ">Predicted=4087.455, Expected=4016.000\n",
            ">Predicted=4771.842, Expected=3957.000\n",
            ">Predicted=4676.086, Expected=4510.000\n",
            ">Predicted=4583.396, Expected=4276.000\n",
            ">Predicted=5117.345, Expected=4968.000\n",
            ">Predicted=5208.150, Expected=4677.000\n",
            ">Predicted=4436.445, Expected=3523.000\n",
            ">Predicted=2180.952, Expected=1821.000\n",
            ">Predicted=5471.264, Expected=5222.000\n",
            ">Predicted=7337.610, Expected=6872.000\n",
            ">Predicted=10268.369, Expected=10803.000\n",
            ">Predicted=11725.422, Expected=13916.000\n",
            ">Predicted=4519.589, Expected=2639.000\n",
            ">Predicted=4606.103, Expected=2899.000\n",
            ">Predicted=4939.026, Expected=3370.000\n",
            ">Predicted=4495.261, Expected=3740.000\n",
            ">Predicted=5109.010, Expected=2927.000\n",
            ">Predicted=4285.914, Expected=3986.000\n",
            ">Predicted=3155.258, Expected=4217.000\n",
            ">Predicted=1830.004, Expected=1738.000\n",
            ">Predicted=5135.172, Expected=5221.000\n",
            ">Predicted=6806.894, Expected=6424.000\n",
            ">Predicted=10644.038, Expected=9842.000\n",
            ">Predicted=13605.824, Expected=13076.000\n",
            ">Predicted=2265.382, Expected=3934.000\n",
            ">Predicted=2938.909, Expected=3162.000\n",
            ">Predicted=3341.706, Expected=4286.000\n",
            ">Predicted=3882.925, Expected=4676.000\n",
            ">Predicted=3157.016, Expected=5010.000\n",
            ">Predicted=4615.084, Expected=4874.000\n",
            ">Predicted=4625.000, Expected=4633.000\n",
            ">Predicted=2044.095, Expected=1659.000\n",
            ">Predicted=5404.428, Expected=5951.000\n",
            "RMSE: 956.960\n"
          ]
        }
      ]
    },
    {
      "cell_type": "markdown",
      "source": [
        "# **Automatically Configured ARIMA using GRID Search HyperParmeters**"
      ],
      "metadata": {
        "id": "cM2x8ZZ7apR2"
      }
    },
    {
      "cell_type": "code",
      "source": [
        "import warnings\n",
        "from pandas import read_csv\n",
        "from statsmodels.tsa.arima_model import ARIMA\n",
        "from sklearn.metrics import mean_squared_error\n",
        "from math import sqrt\n",
        "import numpy"
      ],
      "metadata": {
        "id": "3xfhxp7SbUmh"
      },
      "execution_count": 19,
      "outputs": []
    },
    {
      "cell_type": "code",
      "source": [
        "# Creating a Differenced Function\n",
        "\n",
        "def difference(dataset, interval=1):\n",
        "  diff = list()\n",
        "  for i in range(interval, len(dataset)):\n",
        "    value = dataset[i] - dataset[i - interval]\n",
        "    diff.append(value)\n",
        "  return numpy.array(diff)"
      ],
      "metadata": {
        "id": "eLEMCEb0a9Ol"
      },
      "execution_count": 20,
      "outputs": []
    },
    {
      "cell_type": "code",
      "source": [
        "# Inverting Differenced Values\n",
        "\n",
        "def inverse_difference(history, yhat, interval = 1):\n",
        "  return yhat + history[-interval]"
      ],
      "metadata": {
        "id": "p7MNaEiAbAvO"
      },
      "execution_count": 21,
      "outputs": []
    },
    {
      "cell_type": "code",
      "source": [
        "# Evaluate ARIMA Model\n",
        "\n",
        "def evaluate_arima_model(X, arima_order):\n",
        "  X = X.astype('float32')\n",
        "  train_size = int(len(X) * 0.50)\n",
        "  train, test = X[0:train_size], X[train_size:]\n",
        "  history = [x for x in train]\n",
        "  predictions = list()\n",
        "  for t in range(len(test)):\n",
        "    months_in_year = 12\n",
        "    diff = difference(history, months_in_year)\n",
        "    model = ARIMA(diff, order = arima_order)\n",
        "    model_fit = model.fit(trend='nc', disp=0)\n",
        "    yhat = model_fit.forecast()[0]\n",
        "    yhat = inverse_difference(history, yhat, months_in_year)\n",
        "    predictions.append(yhat)\n",
        "    history.append(test[t])\n",
        "    # calculate out of sample error\n",
        "  rmse = sqrt(mean_squared_error(test, predictions))\n",
        "  return rmse"
      ],
      "metadata": {
        "id": "RYiIuEbRbD2G"
      },
      "execution_count": 22,
      "outputs": []
    },
    {
      "cell_type": "code",
      "source": [
        "# Finding Best Set of p,d, q Values\n",
        "\n",
        "def evaluate_models(dataset, p_values, d_values, q_values):\n",
        "  dataset = dataset.astype('float32')\n",
        "  best_score, best_cfg = float(\"inf\"), None\n",
        "  for p in p_values:\n",
        "    for d in d_values:\n",
        "      for q in q_values:\n",
        "        order = (p,d,q)\n",
        "        try:\n",
        "          rmse = evaluate_arima_model(dataset, order)\n",
        "          if rmse < best_score:\n",
        "            best_score, best_cfg = rmse, order\n",
        "          print('ARIMA%s RMSE=%.3f' % (order,rmse))\n",
        "        except:\n",
        "          continue\n",
        "  print('Best ARIMA%s RMSE=%.3f' % (best_cfg, best_score))"
      ],
      "metadata": {
        "id": "jmArs7eibLrp"
      },
      "execution_count": 23,
      "outputs": []
    },
    {
      "cell_type": "code",
      "source": [
        "series = read_csv('/content/dataset.csv', header = None, index_col = 0, parse_dates = True, squeeze = True)\n",
        "p_values = range(0, 7)\n",
        "d_values = range(0, 3)\n",
        "q_values = range(0, 7)\n",
        "warnings.filterwarnings(\"ignore\")\n",
        "evaluate_models(series.values, p_values, d_values, q_values)"
      ],
      "metadata": {
        "colab": {
          "base_uri": "https://localhost:8080/"
        },
        "id": "HhbKujGNMBoj",
        "outputId": "fc3ab44c-1a1b-4deb-d2e3-fd8e5157605e"
      },
      "execution_count": 24,
      "outputs": [
        {
          "output_type": "stream",
          "name": "stdout",
          "text": [
            "ARIMA(0, 0, 1) RMSE=939.464\n",
            "ARIMA(0, 0, 2) RMSE=962.289\n",
            "ARIMA(0, 0, 3) RMSE=944.237\n",
            "ARIMA(0, 0, 4) RMSE=958.794\n",
            "ARIMA(0, 0, 5) RMSE=986.836\n",
            "ARIMA(0, 0, 6) RMSE=1087.012\n",
            "ARIMA(0, 1, 1) RMSE=958.297\n",
            "ARIMA(0, 2, 1) RMSE=1146.987\n",
            "ARIMA(1, 0, 0) RMSE=944.449\n",
            "ARIMA(1, 1, 0) RMSE=1070.204\n",
            "ARIMA(1, 1, 1) RMSE=956.960\n",
            "ARIMA(1, 2, 0) RMSE=1555.858\n",
            "ARIMA(2, 0, 0) RMSE=955.134\n",
            "ARIMA(2, 0, 1) RMSE=948.619\n",
            "ARIMA(2, 1, 0) RMSE=1030.467\n",
            "ARIMA(2, 1, 1) RMSE=980.921\n",
            "ARIMA(2, 2, 0) RMSE=1346.598\n",
            "ARIMA(2, 2, 1) RMSE=1039.654\n",
            "ARIMA(3, 0, 0) RMSE=959.165\n",
            "ARIMA(3, 1, 0) RMSE=1028.226\n",
            "ARIMA(3, 1, 1) RMSE=979.940\n",
            "ARIMA(3, 2, 0) RMSE=1244.847\n",
            "ARIMA(4, 0, 0) RMSE=968.411\n",
            "ARIMA(4, 1, 0) RMSE=1046.524\n",
            "ARIMA(4, 1, 1) RMSE=1006.258\n",
            "ARIMA(4, 2, 0) RMSE=1227.556\n",
            "ARIMA(4, 2, 1) RMSE=1055.487\n",
            "ARIMA(5, 0, 0) RMSE=987.690\n",
            "ARIMA(5, 1, 0) RMSE=1042.642\n",
            "ARIMA(5, 1, 1) RMSE=1023.405\n",
            "ARIMA(5, 1, 2) RMSE=1003.157\n",
            "ARIMA(5, 2, 1) RMSE=1053.728\n",
            "ARIMA(6, 0, 0) RMSE=996.466\n",
            "ARIMA(6, 0, 2) RMSE=922.105\n",
            "ARIMA(6, 1, 0) RMSE=1018.211\n",
            "ARIMA(6, 1, 1) RMSE=1023.758\n",
            "Best ARIMA(6, 0, 2) RMSE=922.105\n"
          ]
        }
      ]
    },
    {
      "cell_type": "code",
      "source": [
        "# Finalising ARIMA Paramaters as (6, 0, 2)"
      ],
      "metadata": {
        "id": "3WVpC1lVNFoH"
      },
      "execution_count": 25,
      "outputs": []
    },
    {
      "cell_type": "markdown",
      "source": [
        "# **Summarizing ARIMA Model Residuals using our fixed parameters as (6, 0, 2)**"
      ],
      "metadata": {
        "id": "rhY-5i3ob5p2"
      }
    },
    {
      "cell_type": "code",
      "source": [
        "# Finding Diff\n",
        "def difference(dataset, interval=1):\n",
        "  diff = list()\n",
        "  for i in range(interval, len(dataset)):\n",
        "    value = dataset[i] - dataset[i - interval]\n",
        "    diff.append(value)\n",
        "  return diff"
      ],
      "metadata": {
        "id": "1ey38d6OcO_J"
      },
      "execution_count": 26,
      "outputs": []
    },
    {
      "cell_type": "code",
      "source": [
        "# Inverted Diff\n",
        "def inverse_difference(history, yhat, interval=1):\n",
        "  return yhat + history[-interval]"
      ],
      "metadata": {
        "id": "ClXH0BiOcRsG"
      },
      "execution_count": 27,
      "outputs": []
    },
    {
      "cell_type": "code",
      "source": [
        "# Summarizing ARIMA Model Residuals\n",
        "from pandas import read_csv\n",
        "from pandas import DataFrame\n",
        "from statsmodels.tsa.arima_model import ARIMA\n",
        "from matplotlib import pyplot\n",
        "\n",
        "series = read_csv('/content/dataset.csv', header=None, index_col=0, parse_dates=True, squeeze=True)\n",
        "X = series.values\n",
        "X = X.astype('float32')\n",
        "train_size = int(len(X) * 0.50)\n",
        "train, test = X[0:train_size], X[train_size:]\n",
        "\n",
        "history = [x for x in train]\n",
        "predictions = list()\n",
        "for i in range(len(test)):\n",
        "  months_in_year = 12\n",
        "  diff = difference(history, months_in_year)\n",
        "  model = ARIMA(diff, order=(6,0,2))\n",
        "  model_fit = model.fit(trend='nc', disp=0)\n",
        "  yhat = model_fit.forecast()[0]\n",
        "  yhat = inverse_difference(history, yhat, months_in_year)\n",
        "  predictions.append(yhat)\n",
        "  obs = test[i]\n",
        "  history.append(obs)"
      ],
      "metadata": {
        "id": "19xG3skIS8Np"
      },
      "execution_count": 28,
      "outputs": []
    },
    {
      "cell_type": "code",
      "source": [
        "# Reviewing Residual Errors  \n",
        "residuals = [test[i]-predictions[i] for i in range(len(test))]\n",
        "residuals = DataFrame(residuals)\n",
        "print(residuals.describe())"
      ],
      "metadata": {
        "colab": {
          "base_uri": "https://localhost:8080/"
        },
        "id": "95oWNT3ycasO",
        "outputId": "a149e6ea-c3b2-4c14-e73c-1a7dd60bf0b5"
      },
      "execution_count": 29,
      "outputs": [
        {
          "output_type": "stream",
          "name": "stdout",
          "text": [
            "                 0\n",
            "count    47.000000\n",
            "mean     92.395663\n",
            "std     927.383040\n",
            "min   -2106.541558\n",
            "25%    -468.105378\n",
            "50%     139.128371\n",
            "75%     569.611284\n",
            "max    2344.852096\n"
          ]
        }
      ]
    },
    {
      "cell_type": "code",
      "source": [
        "# Plotting Histogram and Density Graph to evaluate Distribution\n",
        "pyplot.figure()\n",
        "pyplot.subplot(211)\n",
        "residuals.hist(ax=pyplot.gca())\n",
        "pyplot.subplot(212)\n",
        "residuals.plot(kind='kde', ax=pyplot.gca())\n",
        "pyplot.show()"
      ],
      "metadata": {
        "colab": {
          "base_uri": "https://localhost:8080/",
          "height": 281
        },
        "id": "-CSw4fxTcbq_",
        "outputId": "3f776cdf-7a3c-478c-9db3-0d6d2a87602c"
      },
      "execution_count": 30,
      "outputs": [
        {
          "output_type": "display_data",
          "data": {
            "image/png": "[encoded data removed]",
            "text/plain": [
              "<Figure size 432x288 with 2 Axes>"
            ]
          },
          "metadata": {
            "needs_background": "light"
          }
        }
      ]
    },
    {
      "cell_type": "markdown",
      "source": [
        "# **Adding Bias to Reduce Residual Errors**"
      ],
      "metadata": {
        "id": "A3tlJGfmdImJ"
      }
    },
    {
      "cell_type": "code",
      "source": [
        "# Summarizing ARIMA Model Residuals\n",
        "from pandas import read_csv\n",
        "from pandas import DataFrame\n",
        "from statsmodels.tsa.arima_model import ARIMA\n",
        "from matplotlib import pyplot\n",
        "\n",
        "series = read_csv('/content/dataset.csv', header=None, index_col=0, parse_dates=True, squeeze=True)\n",
        "X = series.values\n",
        "X = X.astype('float32')\n",
        "train_size = int(len(X) * 0.50)\n",
        "train, test = X[0:train_size], X[train_size:]\n",
        "\n",
        "history = [x for x in train]\n",
        "predictions = list()\n",
        "bias = 92.395663\n",
        "for i in range(len(test)):\n",
        "  months_in_year = 12\n",
        "  diff = difference(history, months_in_year)\n",
        "  model = ARIMA(diff, order=(6,0,2))\n",
        "  model_fit = model.fit(trend='nc', disp=0)\n",
        "  yhat = model_fit.forecast()[0]\n",
        "  yhat = bias + inverse_difference(history, yhat, months_in_year)\n",
        "  predictions.append(yhat)\n",
        "  obs = test[i]\n",
        "  history.append(obs)"
      ],
      "metadata": {
        "id": "qWLte-uGUVrl"
      },
      "execution_count": 31,
      "outputs": []
    },
    {
      "cell_type": "code",
      "source": [
        "# Reviewing Residual Errors  \n",
        "residuals = [test[i]-predictions[i] for i in range(len(test))]\n",
        "residuals = DataFrame(residuals)\n",
        "print(residuals.describe())\n",
        "\n",
        "# Plotting Histogram and Density Graph to evaluate Distribution\n",
        "pyplot.figure()\n",
        "pyplot.subplot(211)\n",
        "residuals.hist(ax=pyplot.gca())\n",
        "pyplot.subplot(212)\n",
        "residuals.plot(kind='kde', ax=pyplot.gca())\n",
        "pyplot.show()"
      ],
      "metadata": {
        "colab": {
          "base_uri": "https://localhost:8080/",
          "height": 437
        },
        "id": "KXk6DEc_dS5H",
        "outputId": "c500f255-e395-46ef-8acb-669ad054f588"
      },
      "execution_count": 32,
      "outputs": [
        {
          "output_type": "stream",
          "name": "stdout",
          "text": [
            "                  0\n",
            "count  4.700000e+01\n",
            "mean   4.553083e-08\n",
            "std    9.273830e+02\n",
            "min   -2.198937e+03\n",
            "25%   -5.605010e+02\n",
            "50%    4.673271e+01\n",
            "75%    4.772156e+02\n",
            "max    2.252456e+03\n"
          ]
        },
        {
          "output_type": "display_data",
          "data": {
            "image/png": "[encoded data removed]",
            "text/plain": [
              "<Figure size 432x288 with 2 Axes>"
            ]
          },
          "metadata": {
            "needs_background": "light"
          }
        }
      ]
    },
    {
      "cell_type": "code",
      "source": [
        "# Plotting ACF and PACF Plots\n",
        "pyplot.figure()\n",
        "pyplot.subplot(211)\n",
        "plot_acf(residuals, ax=pyplot.gca())\n",
        "pyplot.subplot(212)\n",
        "plot_pacf(residuals, ax=pyplot.gca())\n",
        "pyplot.show()"
      ],
      "metadata": {
        "colab": {
          "base_uri": "https://localhost:8080/",
          "height": 281
        },
        "id": "1aghBPSUVLqI",
        "outputId": "a10d70d8-59ae-4cac-98cd-1bc4f01d2ec1"
      },
      "execution_count": 33,
      "outputs": [
        {
          "output_type": "display_data",
          "data": {
            "image/png": "[encoded data removed]",
            "text/plain": [
              "<Figure size 432x288 with 2 Axes>"
            ]
          },
          "metadata": {
            "needs_background": "light"
          }
        }
      ]
    },
    {
      "cell_type": "code",
      "source": [
        "# Saving the Model with Final Parameters\n",
        "from pandas import read_csv\n",
        "from statsmodels.tsa.arima_model import ARIMA\n",
        "import numpy\n",
        "\n",
        "# Patching Bug in ARIMA Case\n",
        "def __getnewargs__(self):\n",
        "  return ((self.endog),(self.k_lags, self.k_diff, self.k_ma))\n",
        "\n",
        "ARIMA.__getnewargs__ = __getnewargs__\n",
        "\n",
        "# Differenced Series\n",
        "def difference(dataset, interval=1):\n",
        "  diff = list()\n",
        "  for i in range(interval, len(dataset)):\n",
        "    value = dataset[i] - dataset[i - interval]\n",
        "    diff.append(value)\n",
        "  return diff\n",
        "\n",
        "# Data\n",
        "series = read_csv('dataset.csv', header=None, index_col=0, parse_dates=True, squeeze=True)\n",
        "\n",
        "# Enhancing Data\n",
        "X = series.values\n",
        "X = X.astype('float32')\n",
        "\n",
        "months_in_year = 12\n",
        "diff = difference(X, months_in_year)\n",
        "\n",
        "# Fitting Model\n",
        "model = ARIMA(diff, order=(0,0,1))\n",
        "model_fit = model.fit(trend='nc', disp=0)\n",
        "\n",
        "# Bias observed from Mean\n",
        "bias = 92.395663\n",
        "\n",
        "# Saving Model\n",
        "model_fit.save('model.pkl')\n",
        "numpy.save('model_bias.npy', [bias])"
      ],
      "metadata": {
        "id": "jXDuBqBkVToX"
      },
      "execution_count": 34,
      "outputs": []
    },
    {
      "cell_type": "code",
      "source": [
        "# Loading Model and Making Prediction\n",
        "from pandas import read_csv\n",
        "from statsmodels.tsa.arima_model import ARIMAResults\n",
        "import numpy\n",
        "\n",
        "# Inverting Differenced Values\n",
        "def inverse_difference(history, yhat, interval=1):\n",
        "  return yhat + history[-interval]\n",
        "\n",
        "# Data Load\n",
        "series = read_csv('dataset.csv', header=None, index_col=0, parse_dates=True, squeeze=True)\n",
        "months_in_year = 12\n",
        "\n",
        "# Model Load\n",
        "model_fit = ARIMAResults.load('model.pkl')\n",
        "bias = numpy.load('model_bias.npy')\n",
        "\n",
        "# Making Predication\n",
        "yhat = float(model_fit.forecast()[0])\n",
        "yhat = bias + inverse_difference(series.values, yhat, months_in_year)\n",
        "print('Predicted: %.3f' % yhat)"
      ],
      "metadata": {
        "colab": {
          "base_uri": "https://localhost:8080/"
        },
        "id": "bi0CPVj9WPMS",
        "outputId": "7e52e5f1-a1a0-4952-a297-4ff689c96613"
      },
      "execution_count": 35,
      "outputs": [
        {
          "output_type": "stream",
          "name": "stdout",
          "text": [
            "Predicted: 6721.264\n"
          ]
        }
      ]
    },
    {
      "cell_type": "code",
      "source": [
        "# Validating Model\n",
        "\n",
        "# Load and Preparing Datasets\n",
        "dataset = read_csv('/content/dataset.csv', header=None, index_col=0, parse_dates=True, squeeze=True)\n",
        "X = dataset.values.astype('float32')\n",
        "history = [x for x in X]\n",
        "months_in_year = 12\n",
        "\n",
        "# Validation Dataset\n",
        "validation = read_csv('/content/validation.csv', header=None, index_col=0, parse_dates=True,squeeze=True)\n",
        "y = validation.values.astype('float32')\n",
        "\n",
        "# Loading Model\n",
        "model_fit = ARIMAResults.load('model.pkl')\n",
        "bias = numpy.load('model_bias.npy')\n",
        "\n",
        "# Predicting\n",
        "predictions = list()\n",
        "yhat = float(model_fit.forecast()[0])\n",
        "yhat = bias + inverse_difference(history, yhat, months_in_year)\n",
        "predictions.append(yhat)\n",
        "history.append(y[0])\n",
        "print('>Predicted=%.3f, Expected=%.3f' % (yhat, y[0]))\n",
        "\n",
        "# Forecasts\n",
        "for i in range(1, len(y)):\n",
        "  months_in_year = 12\n",
        "  diff = difference(history, months_in_year)\n",
        "  model = ARIMA(diff, order=(6, 0, 2))\n",
        "  model_fit = model.fit(trend='nc', disp=0)\n",
        "  yhat = model_fit.forecast()[0]\n",
        "  yhat = bias + inverse_difference(history, yhat, months_in_year)\n",
        "  predictions.append(yhat)\n",
        "  obs = y[i]\n",
        "  history.append(obs)\n",
        "  print('>Predicted=%.3f, Expected=%.3f' % (yhat, obs))\n",
        "\n",
        "# Performance\n",
        "rmse = sqrt(mean_squared_error(y, predictions))\n",
        "print('RMSE: %.3f' % rmse)\n",
        "pyplot.plot(y)\n",
        "pyplot.plot(predictions, color='red')\n",
        "pyplot.show()"
      ],
      "metadata": {
        "colab": {
          "base_uri": "https://localhost:8080/",
          "height": 491
        },
        "id": "_dKWLJLzXHvR",
        "outputId": "ab869dd0-88eb-469a-eb0a-ef36c5852391"
      },
      "execution_count": 36,
      "outputs": [
        {
          "output_type": "stream",
          "name": "stdout",
          "text": [
            ">Predicted=6721.264, Expected=6981.000\n",
            ">Predicted=10082.369, Expected=9851.000\n",
            ">Predicted=13370.789, Expected=12670.000\n",
            ">Predicted=3934.135, Expected=4348.000\n",
            ">Predicted=3474.435, Expected=3564.000\n",
            ">Predicted=4360.575, Expected=4577.000\n",
            ">Predicted=5008.304, Expected=4788.000\n",
            ">Predicted=5105.588, Expected=4618.000\n",
            ">Predicted=5036.136, Expected=5312.000\n",
            ">Predicted=4758.625, Expected=4298.000\n",
            ">Predicted=1721.189, Expected=1413.000\n",
            ">Predicted=5933.520, Expected=5877.000\n",
            "RMSE: 354.844\n"
          ]
        },
        {
          "output_type": "display_data",
          "data": {
            "image/png": "[encoded data removed]",
            "text/plain": [
              "<Figure size 432x288 with 1 Axes>"
            ]
          },
          "metadata": {
            "needs_background": "light"
          }
        }
      ]
    }
  ]
}